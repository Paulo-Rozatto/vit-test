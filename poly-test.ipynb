{
  "cells": [
    {
      "cell_type": "code",
      "execution_count": 1,
      "metadata": {
        "id": "QpmEEQ-pdSB6"
      },
      "outputs": [],
      "source": [
        "import cv2\n",
        "import numpy as np\n",
        "\n",
        "import torch\n",
        "import torch.nn as nn\n",
        "from torch.optim import Adam\n",
        "from torch.nn import CrossEntropyLoss, MSELoss\n",
        "from torch.utils.data import DataLoader\n",
        "\n",
        "from torchvision.transforms import ToTensor, Lambda\n",
        "from torchvision.datasets.mnist import MNIST\n",
        "\n",
        "from tqdm import tqdm, trange\n"
      ]
    },
    {
      "cell_type": "code",
      "execution_count": 2,
      "metadata": {
        "id": "qF9zIOImdSB-"
      },
      "outputs": [],
      "source": [
        "def get_positional_embeddings(sequence_length, d):\n",
        "    result = torch.ones(sequence_length, d)\n",
        "    for i in range(sequence_length):\n",
        "        for j in range(d):\n",
        "            result[i][j] = np.sin(\n",
        "                i / (10000 ** (j / d))) if j % 2 == 0 else np.cos(i / (10000 ** ((j - 1) / d)))\n",
        "    return result\n",
        "\n",
        "\n",
        "class PatchEmbed(nn.Module):\n",
        "    \"\"\"\n",
        "    Image to Patch Embedding.\n",
        "    https://github.com/facebookresearch/segment-anything/blob/6fdee8f2727f4506cfbbe553e23b895e27956588/segment_anything/modeling/image_encoder.py#L364\n",
        "    \"\"\"\n",
        "\n",
        "    def __init__(\n",
        "        self,\n",
        "        kernel_size=(4, 4),\n",
        "        stride=(4, 4),\n",
        "        padding=(0, 0),\n",
        "        in_chans: int = 1,\n",
        "        embed_dim: int = 16,\n",
        "    ) -> None:\n",
        "        \"\"\"\n",
        "        Args:\n",
        "            kernel_size (Tuple): kernel size of the projection layer.\n",
        "            stride (Tuple): stride of the projection layer.\n",
        "            padding (Tuple): padding size of the projection layer.\n",
        "            in_chans (int): Number of input image channels.\n",
        "            embed_dim (int): Patch embedding dimension.\n",
        "        \"\"\"\n",
        "        super().__init__()\n",
        "\n",
        "        self.proj = nn.Conv2d(\n",
        "            in_chans, embed_dim, kernel_size=kernel_size, stride=stride, padding=padding\n",
        "        )\n",
        "\n",
        "    def forward(self, x: torch.Tensor) -> torch.Tensor:\n",
        "        x = self.proj(x)\n",
        "        # B C H W -> B H W C\n",
        "        x = x.permute(0, 2, 3, 1)\n",
        "        return x\n",
        "\n",
        "\n",
        "class MyMSA(nn.Module):\n",
        "    def __init__(self, d, n_heads=2):\n",
        "        super(MyMSA, self).__init__()\n",
        "        self.d = d\n",
        "        self.n_heads = n_heads\n",
        "\n",
        "        assert d % n_heads == 0, f\"Can't divide dimension {d} into {n_heads} heads\"\n",
        "\n",
        "        d_head = int(d / n_heads)\n",
        "        self.q_mappings = nn.ModuleList(\n",
        "            [nn.Linear(d_head, d_head) for _ in range(self.n_heads)])\n",
        "        self.k_mappings = nn.ModuleList(\n",
        "            [nn.Linear(d_head, d_head) for _ in range(self.n_heads)])\n",
        "        self.v_mappings = nn.ModuleList(\n",
        "            [nn.Linear(d_head, d_head) for _ in range(self.n_heads)])\n",
        "        self.d_head = d_head\n",
        "        self.softmax = nn.Softmax(dim=-1)\n",
        "\n",
        "    def forward(self, sequences):\n",
        "        # Sequences has shape (N, seq_length, token_dim)\n",
        "        # We go into shape    (N, seq_length, n_heads, token_dim / n_heads)\n",
        "        # And come back to    (N, seq_length, item_dim)  (through concatenation)\n",
        "        result = []\n",
        "        for sequence in sequences:\n",
        "            seq_result = []\n",
        "            for head in range(self.n_heads):\n",
        "                q_mapping = self.q_mappings[head]\n",
        "                k_mapping = self.k_mappings[head]\n",
        "                v_mapping = self.v_mappings[head]\n",
        "\n",
        "                seq = sequence[:, head * self.d_head: (head + 1) * self.d_head]\n",
        "                q, k, v = q_mapping(seq), k_mapping(seq), v_mapping(seq)\n",
        "\n",
        "                attention = self.softmax(q @ k.T / (self.d_head ** 0.5))\n",
        "                seq_result.append(attention @ v)\n",
        "            result.append(torch.hstack(seq_result))\n",
        "        return torch.cat([torch.unsqueeze(r, dim=0) for r in result])\n",
        "\n",
        "\n",
        "class MyViTBlock(nn.Module):\n",
        "    def __init__(self, hidden_d, n_heads, mlp_ratio=4):\n",
        "        super(MyViTBlock, self).__init__()\n",
        "        self.hidden_d = hidden_d\n",
        "        self.n_heads = n_heads\n",
        "\n",
        "        self.norm1 = nn.LayerNorm(hidden_d)\n",
        "        self.mhsa = MyMSA(hidden_d, n_heads)\n",
        "        self.norm2 = nn.LayerNorm(hidden_d)\n",
        "        self.mlp = nn.Sequential(\n",
        "            nn.Linear(hidden_d, mlp_ratio * hidden_d),\n",
        "            nn.GELU(),\n",
        "            nn.Linear(mlp_ratio * hidden_d, hidden_d)\n",
        "        )\n",
        "\n",
        "    def forward(self, x):\n",
        "        out = x + self.mhsa(self.norm1(x))\n",
        "        out = out + self.mlp(self.norm2(out))\n",
        "        return out\n",
        "\n",
        "class ViT(nn.Module):\n",
        "    def __init__(self, chw=(1, 28, 28), n_patches=7, hidden_d=16, n_heads=2, n_blocks=2, out_d=2):\n",
        "        super(ViT, self).__init__()\n",
        "\n",
        "        self.chw = chw\n",
        "        self.n_patches = n_patches\n",
        "        self.hidden_d = hidden_d\n",
        "\n",
        "        assert chw[1] % n_patches == 0, \"Input shape not entirely divisible by number of patches\"\n",
        "        assert chw[2] % n_patches == 0, \"Input shape not entirely divisible by number of patches\"\n",
        "        self.patch_size = (chw[1] // n_patches, chw[2] // n_patches)\n",
        "\n",
        "        # Patcher and mapper\n",
        "        self.patcher = PatchEmbed()\n",
        "        self.mapper = nn.Linear(16, hidden_d)\n",
        "\n",
        "        # Learnable classification token\n",
        "        self.class_token = nn.Parameter(torch.rand(1, self.hidden_d))\n",
        "\n",
        "        #  Positional embedding\n",
        "        self.register_buffer('pos_embed', get_positional_embeddings(\n",
        "            n_patches ** 2 + 1, hidden_d), persistent=False)\n",
        "\n",
        "        # Attention blocks\n",
        "        self.blocks = nn.ModuleList(\n",
        "            [MyViTBlock(hidden_d, n_heads) for _ in range(n_blocks)])\n",
        "\n",
        "        # MLP classification\n",
        "        # self.mlp = nn.Sequential(\n",
        "        #     nn.Linear(self.hidden_d, out_d),\n",
        "        #     nn.Softmax(dim=-1)\n",
        "        # )\n",
        "\n",
        "    def forward(self, images):\n",
        "        tokens = self.patcher(images).flatten(1, 2)\n",
        "        tokens = self.mapper(tokens)\n",
        "\n",
        "        tokens = torch.cat((self.class_token.expand(\n",
        "            len(tokens), 1, -1), tokens), dim=1)\n",
        "\n",
        "        # Adding positional embedding\n",
        "        pos_embed = self.pos_embed.repeat(len(tokens), 1, 1)\n",
        "        out = tokens + pos_embed\n",
        "\n",
        "        for block in self.blocks:\n",
        "            out = block(out)\n",
        "\n",
        "        # out = self.mlp(out[:, 0])\n",
        "\n",
        "        return out[:, 0]"
      ]
    },
    {
      "cell_type": "code",
      "execution_count": 3,
      "metadata": {
        "id": "a8iE2bBtdSCA"
      },
      "outputs": [],
      "source": [
        "class TokenEncoder(nn.Module):\n",
        "    \"\"\"\n",
        "    Adapted from:\n",
        "    https://github.com/facebookresearch/segment-anything/blob/main/segment_anything/modeling/prompt_encoder.py\n",
        "    \"\"\"\n",
        "    def __init__(self, image_size:int = 28, num_pos_feats:int = 8) -> None:\n",
        "        super().__init__()\n",
        "        self.image_size = image_size\n",
        "\n",
        "        self.register_buffer(\n",
        "            \"positional_encoding_gaussian_matrix\",\n",
        "            torch.randn((2, num_pos_feats)),\n",
        "        )\n",
        "\n",
        "    def _pe_encoding(self, coords: torch.Tensor) -> torch.Tensor:\n",
        "        \"\"\"Positionally encode points that are normalized to [0,1].\"\"\"\n",
        "        # assuming coords are in [0, 1]^2 square and have d_1 x ... x d_n x 2 shape\n",
        "        coords = 2 * coords - 1\n",
        "        coords = coords @ self.positional_encoding_gaussian_matrix\n",
        "        coords = 2 * np.pi * coords\n",
        "        # outputs d_1 x ... x d_n x C shape\n",
        "        return torch.cat([torch.sin(coords), torch.cos(coords)], dim=-1)\n",
        "\n",
        "    def forward(self, coords_input):\n",
        "        \"\"\"\n",
        "        Arguments:\n",
        "        points: batch points predictions in formart [B, W, H]\n",
        "        \"\"\"\n",
        "        coords = coords_input.clone()\n",
        "        coords[:, 0] = coords[:, 0] / self.image_size\n",
        "        coords[:, 1] = coords[:, 1] / self.image_size\n",
        "        t = self._pe_encoding(coords.to(torch.float))  # B x N\n",
        "        return t"
      ]
    },
    {
      "cell_type": "code",
      "execution_count": 4,
      "metadata": {
        "id": "jpGDibcSdSCB"
      },
      "outputs": [],
      "source": [
        "class Net(nn.Module):\n",
        "    def __init__(self, hidden_d:int = 8, n_heads:int = 1, n_blocks:int = 1, out_d:int = 2, image_size:int = 28) -> None:\n",
        "        super().__init__()\n",
        "        self.max = 30\n",
        "\n",
        "        self.enconder = ViT(hidden_d=hidden_d, n_heads=n_heads)\n",
        "        self.token_enconder = TokenEncoder(num_pos_feats=4)\n",
        "        self.image_size = image_size\n",
        "\n",
        "        # Attention blocks\n",
        "        self.blocks = nn.ModuleList(\n",
        "            [MyViTBlock(hidden_d, n_heads) for _ in range(n_blocks)])\n",
        "\n",
        "        self.pred = nn.Sequential(\n",
        "            nn.Linear(hidden_d, out_d),\n",
        "            nn.Sigmoid()\n",
        "        )\n",
        "\n",
        "        self.flag = nn.Sequential(\n",
        "            nn.Linear(hidden_d, 1),\n",
        "            nn.Sigmoid()\n",
        "        )\n",
        "\n",
        "    def forward(self, image, input_token, in_tokens=None):\n",
        "        token = self.token_enconder(input_token).unsqueeze(1)\n",
        "        embedding = self.enconder(image).unsqueeze(1)\n",
        "\n",
        "        tokens = torch.cat([token, embedding], dim=1)\n",
        "\n",
        "        if in_tokens is not None:\n",
        "          tokens = torch.cat([tokens, in_tokens], dim=1)\n",
        "\n",
        "        for block in self.blocks:\n",
        "          tokens = block(tokens)\n",
        "\n",
        "        point = self.pred(tokens)[:, 0]\n",
        "\n",
        "        return point, tokens\n",
        "\n",
        "        tokens = self.enconder(image)\n",
        "        # token = self.token_enconder(input_token)\n",
        "\n",
        "        i = 0\n",
        "        stop = 0\n",
        "        points = []\n",
        "        while(i < self.max):\n",
        "            token = self.token_enconder(input_token)\n",
        "            tokens = torch.cat([token.unsqueeze(1), tokens.unsqueeze(1)], dim=1)\n",
        "\n",
        "            for block in self.blocks:\n",
        "                tokens = block(tokens)\n",
        "\n",
        "            tokens = tokens[:, 1]\n",
        "            input_token = self.pred(tokens)\n",
        "            # stop = self.flag(tokens) > 0.5\n",
        "            points.append(input_token.unsqueeze(1) * self.image_size)\n",
        "            i += 1\n",
        "        return torch.cat(points, dim=1)\n",
        "\n",
        "\n",
        "# x = torch.randn(2, 1, 28, 28).to(\"cuda\")\n",
        "# z = torch.randn(2, 2).to(\"cuda\")\n",
        "# model = Net().to(\"cuda\")\n",
        "# out = model(x, z)\n",
        "# print(out.shape)\n",
        "# print(out)"
      ]
    },
    {
      "cell_type": "code",
      "execution_count": 7,
      "metadata": {
        "id": "bGDKQEXTQ6Yb"
      },
      "outputs": [],
      "source": [
        "SIZE = 28\n",
        "MAX=10\n",
        "\n",
        "def preprocess(img, toTensor):\n",
        "  cnt, _ = cv2.findContours(np.array(img), cv2.RETR_EXTERNAL, cv2.CHAIN_APPROX_NONE)\n",
        "  cnt = max(cnt, key=cv2.contourArea)\n",
        "  poly = cv2.approxPolyDP(cnt, 0.025 * cv2.arcLength(cnt, True), True) / SIZE\n",
        "  poly = torch.tensor(poly.reshape(-1, 2), dtype=torch.float32)\n",
        "\n",
        "  if (len(poly) < MAX):\n",
        "    zeros = torch.zeros(MAX - len(poly), 2)\n",
        "    poly = torch.cat([poly, zeros])\n",
        "\n",
        "  poly[MAX - 1] = torch.tensor([0, 0], dtype=torch.float32)\n",
        "\n",
        "  return toTensor(img), poly[:MAX]\n",
        "\n",
        "# Loading data\n",
        "transform = ToTensor()\n",
        "train_set = MNIST(root='./datasets', train=True,\n",
        "                  download=True, transform=Lambda(lambda x: preprocess(x, transform)))\n",
        "test_set = MNIST(root='./datasets', train=False,\n",
        "                 download=True, transform=Lambda(lambda x: preprocess(x, transform)))\n",
        "train_loader = DataLoader(train_set, shuffle=True, batch_size=128)\n",
        "test_loader = DataLoader(test_set, shuffle=False, batch_size=128)"
      ]
    },
    {
      "cell_type": "code",
      "execution_count": 8,
      "metadata": {
        "colab": {
          "base_uri": "https://localhost:8080/"
        },
        "id": "EHf7mWq_dSCC",
        "outputId": "1b6d532d-dbd6-4390-a1d5-697a75c7ffbc"
      },
      "outputs": [
        {
          "name": "stdout",
          "output_type": "stream",
          "text": [
            "Using device:  cuda (Quadro M5000)\n"
          ]
        },
        {
          "name": "stderr",
          "output_type": "stream",
          "text": [
            "Training:   0%|          | 0/5 [00:00<?, ?it/s]"
          ]
        },
        {
          "name": "stderr",
          "output_type": "stream",
          "text": [
            "Training:  20%|██        | 1/5 [45:03<3:00:14, 2703.54s/it]"
          ]
        },
        {
          "name": "stdout",
          "output_type": "stream",
          "text": [
            "Epoch 1/5 loss: 0.45\n"
          ]
        },
        {
          "name": "stderr",
          "output_type": "stream",
          "text": [
            "Training:  40%|████      | 2/5 [1:29:59<2:14:56, 2698.83s/it]"
          ]
        },
        {
          "name": "stdout",
          "output_type": "stream",
          "text": [
            "Epoch 2/5 loss: 0.38\n"
          ]
        },
        {
          "name": "stderr",
          "output_type": "stream",
          "text": [
            "Training:  60%|██████    | 3/5 [2:14:53<1:29:53, 2696.66s/it]"
          ]
        },
        {
          "name": "stdout",
          "output_type": "stream",
          "text": [
            "Epoch 3/5 loss: 0.35\n"
          ]
        },
        {
          "name": "stderr",
          "output_type": "stream",
          "text": [
            "Training:  80%|████████  | 4/5 [2:59:44<44:54, 2694.76s/it]  "
          ]
        },
        {
          "name": "stdout",
          "output_type": "stream",
          "text": [
            "Epoch 4/5 loss: 0.34\n"
          ]
        },
        {
          "name": "stderr",
          "output_type": "stream",
          "text": [
            "Training: 100%|██████████| 5/5 [3:44:37<00:00, 2695.44s/it]"
          ]
        },
        {
          "name": "stdout",
          "output_type": "stream",
          "text": [
            "Epoch 5/5 loss: 0.33\n"
          ]
        },
        {
          "name": "stderr",
          "output_type": "stream",
          "text": [
            "\n"
          ]
        }
      ],
      "source": [
        "if __name__ == \"__main__\":\n",
        "    # Defining model and training options\n",
        "    device = torch.device(\"cuda\" if torch.cuda.is_available() else \"cpu\")\n",
        "    device_name = torch.cuda.get_device_name(device) if torch.cuda.is_available() else \"cpu\"\n",
        "    print(\"Using device: \", device, f\"({device_name})\")\n",
        "\n",
        "    model = Net().to(device)\n",
        "    N_EPOCHS = 5\n",
        "    LR = 0.005\n",
        "\n",
        "    # model.load_state_dict(torch.load(\"/content/train_1.pth\"))\n",
        "\n",
        "    batch_images, batch_labels = next(iter(train_loader))\n",
        "    # print(batch_images.shape, batch_labels.shape)\n",
        "\n",
        "    # Training loop\n",
        "    optimizer = Adam(model.parameters(), lr=LR)\n",
        "    criterion = MSELoss()\n",
        "    for epoch in trange(N_EPOCHS, desc=\"Training\"):\n",
        "        train_loss = 0.0\n",
        "\n",
        "        for batch in tqdm(train_loader, desc=f\"Epoch {epoch + 1} in training\", leave=False):\n",
        "            x, _ = batch\n",
        "            img, poly = x\n",
        "\n",
        "            if len(img) < 128:\n",
        "              continue\n",
        "\n",
        "            img = img.to(device)\n",
        "            poly = poly.to(device)\n",
        "            inputs = torch.zeros(128, 2).to(device)\n",
        "\n",
        "            optimizer.zero_grad()\n",
        "            loss = 0.0\n",
        "            tokens = None\n",
        "\n",
        "            for i in range(MAX):\n",
        "              preds, tokens = model(img, inputs, tokens)\n",
        "\n",
        "              # print(preds[0], poly[0, i])\n",
        "              loss += criterion(preds, poly[:, i, :])\n",
        "\n",
        "              inputs = preds\n",
        "\n",
        "            train_loss += loss.detach().cpu().item() / len(train_loader)\n",
        "            # print(f\"Step loss: {loss:.2f}\")\n",
        "            loss.backward()\n",
        "            optimizer.step()\n",
        "\n",
        "\n",
        "        print(f\"Epoch {epoch + 1}/{N_EPOCHS} loss: {train_loss:.2f}\")\n",
        "\n"
      ]
    },
    {
      "cell_type": "code",
      "execution_count": 9,
      "metadata": {
        "id": "sjSUIUxFk_ET"
      },
      "outputs": [],
      "source": [
        "# Test loop\n",
        "# with torch.no_grad():\n",
        "#   correct, total = torch.zeros(128, 1), 0\n",
        "#   test_loss = 0.0\n",
        "#   inputs = torch.zeros(128, 2).to(device)\n",
        "\n",
        "#   for batch in tqdm(test_loader, desc=\"Testing\"):\n",
        "#     # x, y = x.to(device), y.to(device)\n",
        "#     x, _ = batch\n",
        "#     img, poly = x\n",
        "\n",
        "#     if len(img) < 128:\n",
        "#         break\n",
        "\n",
        "#     tokens = None\n",
        "#     for i in range(10):\n",
        "#       pred, tokens = model(img, inputs, tokens)\n",
        "#       loss = criterion(pred, poly[:, i, :])\n",
        "#       test_loss += loss.detach().cpu().item() / len(test_loader)\n",
        "\n",
        "#     # correct += torch.sum(torch.argmax(pred, dim=0) == poly).detach().cpu().item()\n",
        "#     print(pred[0], poly[0, 0])\n",
        "#     correct = torch.cdist(pred, poly[:, 0, :], p=2)\n",
        "#     total += len(img)\n",
        "\n",
        "#   print(torch.sum(correct), total)\n",
        "#   print(f\"Test loss: {test_loss:.2f}\")\n",
        "#   print(f\"Test accuracy: {torch.sum(correct) / total:.2f}\")"
      ]
    },
    {
      "cell_type": "code",
      "execution_count": 10,
      "metadata": {
        "id": "8FtFmPgqQD_Y"
      },
      "outputs": [],
      "source": [
        "path = \"train_1.pth\"\n",
        "torch.save(model.state_dict(), path)"
      ]
    },
    {
      "cell_type": "code",
      "execution_count": 59,
      "metadata": {
        "colab": {
          "base_uri": "https://localhost:8080/",
          "height": 448
        },
        "id": "dDxY2ZwodSCD",
        "outputId": "9b1564e3-3353-4646-c0c5-7bf10a15d535"
      },
      "outputs": [
        {
          "data": {
            "text/plain": [
              "<matplotlib.image.AxesImage at 0x7fd2bb05cdf0>"
            ]
          },
          "execution_count": 59,
          "metadata": {},
          "output_type": "execute_result"
        },
        {
          "data": {
            "image/png": "[encoded data removed]",
            "text/plain": [
              "<Figure size 640x480 with 1 Axes>"
            ]
          },
          "metadata": {},
          "output_type": "display_data"
        }
      ],
      "source": [
        "import matplotlib.pyplot as plt\n",
        "%matplotlib inline\n",
        "\n",
        "img = batch_images[0].numpy()[0][0] * 255\n",
        "img = img.astype(np.uint8)\n",
        "plt.imshow(img, cmap='gray')"
      ]
    },
    {
      "cell_type": "code",
      "execution_count": null,
      "metadata": {
        "colab": {
          "base_uri": "https://localhost:8080/",
          "height": 504
        },
        "id": "-vVwKjXXdSCE",
        "outputId": "81b81ad4-8ae4-4d5b-db49-4545476e12af"
      },
      "outputs": [],
      "source": [
        "cnt, _ = cv2.findContours(img, cv2.RETR_EXTERNAL, cv2.CHAIN_APPROX_NONE)\n",
        "cnt = max(cnt, key=cv2.contourArea)\n",
        "\n",
        "poly = cv2.approxPolyDP(cnt, 0.025 * cv2.arcLength(cnt, True), True)\n",
        "\n",
        "out = np.zeros((28,28, 3))\n",
        "out[:,:, 1] = np.copy(img)\n",
        "\n",
        "cv2.polylines(out, [poly], True, (0, 0, 255))\n",
        "\n",
        "for p in poly:\n",
        "    cv2.circle(out, p[0], radius=0, color=255, thickness=-1)\n",
        "\n",
        "plt.imshow(out)"
      ]
    },
    {
      "cell_type": "code",
      "execution_count": null,
      "metadata": {
        "colab": {
          "base_uri": "https://localhost:8080/"
        },
        "id": "XeepZS3mRFx-",
        "outputId": "fb80b6aa-4347-4d4e-e1e9-769568416cc0"
      },
      "outputs": [],
      "source": [
        "with torch.no_grad():\n",
        "  inputs = torch.zeros(1, 2).to(device)\n",
        "  image = batch_images[0][0].reshape(1, 1, 28, 28).to(device)\n",
        "\n",
        "  # print(batch_images[0][1].shape, image.shape)\n",
        "\n",
        "  poly = []\n",
        "  tokens = None\n",
        "  for i in range(MAX):\n",
        "    # print(tokens.shape)\n",
        "    point, tokens = model(image, inputs, tokens)\n",
        "    inputs = point\n",
        "\n",
        "    poly.append(point)\n",
        "    if point[0][0] == 0 and point[0][1] == 0:\n",
        "      break\n",
        "\n",
        "poly = torch.cat(poly)\n",
        "print(poly[:-1], poly[:].shape)"
      ]
    },
    {
      "cell_type": "code",
      "execution_count": 62,
      "metadata": {
        "colab": {
          "base_uri": "https://localhost:8080/",
          "height": 467
        },
        "id": "FWeLNWWFTNrw",
        "outputId": "c71e073f-7378-4f8d-a881-2c006055b268"
      },
      "outputs": [
        {
          "name": "stderr",
          "output_type": "stream",
          "text": [
            "Clipping input data to the valid range for imshow with RGB data ([0..1] for floats or [0..255] for integers).\n"
          ]
        },
        {
          "data": {
            "text/plain": [
              "<matplotlib.image.AxesImage at 0x7fd2baf36e30>"
            ]
          },
          "execution_count": 62,
          "metadata": {},
          "output_type": "execute_result"
        },
        {
          "data": {
            "image/png": "[encoded data removed]",
            "text/plain": [
              "<Figure size 640x480 with 1 Axes>"
            ]
          },
          "metadata": {},
          "output_type": "display_data"
        }
      ],
      "source": [
        "np_poly = poly[:-1].unsqueeze(1).to('cpu').numpy() * SIZE\n",
        "np_poly = np_poly.astype(np.int32)\n",
        "\n",
        "np_out = np.zeros((28,28, 3))\n",
        "np_out[:,:, 1] = np.copy(img)\n",
        "\n",
        "cv2.polylines(np_out, [np_poly], True, (0, 0, 255))\n",
        "\n",
        "for p in np_poly:\n",
        "    cv2.circle(np_out, p[0], radius=0, color=255, thickness=-1)\n",
        "\n",
        "plt.imshow(np_out)"
      ]
    },
    {
      "cell_type": "code",
      "execution_count": 63,
      "metadata": {
        "colab": {
          "base_uri": "https://localhost:8080/",
          "height": 448
        },
        "id": "PmaG16DHVmQs",
        "outputId": "86a2b1ec-ff3e-464d-e3bd-0d718aed3246"
      },
      "outputs": [
        {
          "name": "stderr",
          "output_type": "stream",
          "text": [
            "Clipping input data to the valid range for imshow with RGB data ([0..1] for floats or [0..255] for integers).\n",
            "Clipping input data to the valid range for imshow with RGB data ([0..1] for floats or [0..255] for integers).\n"
          ]
        },
        {
          "data": {
            "image/png": "[encoded data removed]",
            "text/plain": [
              "<Figure size 1000x700 with 2 Axes>"
            ]
          },
          "metadata": {},
          "output_type": "display_data"
        }
      ],
      "source": [
        "fig = plt.figure(figsize=(10, 7))\n",
        "\n",
        "fig.add_subplot(1, 2, 1)\n",
        "plt.imshow(out)\n",
        "plt.axis('off')\n",
        "plt.title(\"Ground Truth\")\n",
        "\n",
        "fig.add_subplot(1, 2, 2)\n",
        "\n",
        "plt.imshow(np_out)\n",
        "plt.axis('off')\n",
        "plt.title(\"Prediction\")\n",
        "\n",
        "plt.show()"
      ]
    }
  ],
  "metadata": {
    "accelerator": "GPU",
    "colab": {
      "gpuType": "T4",
      "provenance": []
    },
    "kernelspec": {
      "display_name": "Python 3",
      "name": "python3"
    },
    "language_info": {
      "codemirror_mode": {
        "name": "ipython",
        "version": 3
      },
      "file_extension": ".py",
      "mimetype": "text/x-python",
      "name": "python",
      "nbconvert_exporter": "python",
      "pygments_lexer": "ipython3",
      "version": "3.10.12"
    }
  },
  "nbformat": 4,
  "nbformat_minor": 0
}
