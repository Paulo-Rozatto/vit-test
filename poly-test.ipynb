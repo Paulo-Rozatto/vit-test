{
 "cells": [
  {
   "cell_type": "code",
   "execution_count": 1,
   "metadata": {},
   "outputs": [],
   "source": [
    "import cv2\n",
    "import numpy as np\n",
    "\n",
    "import torch\n",
    "import torch.nn as nn\n",
    "from torch.optim import Adam\n",
    "from torch.nn import CrossEntropyLoss\n",
    "from torch.utils.data import DataLoader\n",
    "\n",
    "from torchvision.transforms import ToTensor\n",
    "from torchvision.datasets.mnist import MNIST\n",
    "\n",
    "from tqdm import tqdm, trange\n",
    "\n",
    "from vit import PatchEmbed, MyViTBlock, get_positional_embeddings\n"
   ]
  },
  {
   "cell_type": "code",
   "execution_count": 2,
   "metadata": {},
   "outputs": [],
   "source": [
    "class ViT(nn.Module):\n",
    "    def __init__(self, chw=(1, 28, 28), n_patches=7, hidden_d=16, n_heads=2, n_blocks=2, out_d=2):\n",
    "        super(ViT, self).__init__()\n",
    "\n",
    "        self.chw = chw\n",
    "        self.n_patches = n_patches\n",
    "        self.hidden_d = hidden_d\n",
    "\n",
    "        assert chw[1] % n_patches == 0, \"Input shape not entirely divisible by number of patches\"\n",
    "        assert chw[2] % n_patches == 0, \"Input shape not entirely divisible by number of patches\"\n",
    "        self.patch_size = (chw[1] // n_patches, chw[2] // n_patches)\n",
    "\n",
    "        # Patcher and mapper\n",
    "        self.patcher = PatchEmbed()\n",
    "\n",
    "        # Learnable classification token\n",
    "        self.class_token = nn.Parameter(torch.rand(1, self.hidden_d))\n",
    "\n",
    "        #  Positional embedding\n",
    "        self.register_buffer('pos_embed', get_positional_embeddings(\n",
    "            n_patches ** 2 + 1, hidden_d), persistent=False)\n",
    "\n",
    "        # Attention blocks\n",
    "        self.blocks = nn.ModuleList(\n",
    "            [MyViTBlock(hidden_d, n_heads) for _ in range(n_blocks)])\n",
    "\n",
    "        # MLP classification\n",
    "        # self.mlp = nn.Sequential(\n",
    "        #     nn.Linear(self.hidden_d, out_d),\n",
    "        #     nn.Softmax(dim=-1)\n",
    "        # )\n",
    "\n",
    "    def forward(self, images):\n",
    "        tokens = self.patcher(images).flatten(1, 2)\n",
    "\n",
    "        tokens = torch.cat((self.class_token.expand(\n",
    "            len(tokens), 1, -1), tokens), dim=1)\n",
    "\n",
    "        # Adding positional embedding\n",
    "        pos_embed = self.pos_embed.repeat(len(tokens), 1, 1)\n",
    "        out = tokens + pos_embed\n",
    "\n",
    "        for block in self.blocks:\n",
    "            out = block(out)\n",
    "\n",
    "        # out = self.mlp(out[:, 0])\n",
    "\n",
    "        return out[:, 0]"
   ]
  },
  {
   "cell_type": "code",
   "execution_count": null,
   "metadata": {},
   "outputs": [],
   "source": [
    "class TokenEncoder(nn.Module):\n",
    "    \"\"\"\n",
    "    Adapted from:\n",
    "    https://github.com/facebookresearch/segment-anything/blob/main/segment_anything/modeling/prompt_encoder.py\n",
    "    \"\"\"\n",
    "    def __init__(self, image_size:int = 28, num_pos_feats:int = 8) -> None:\n",
    "        super().__init__()\n",
    "        self.image_size = image_size\n",
    "\n",
    "        self.register_buffer(\n",
    "            \"positional_encoding_gaussian_matrix\",\n",
    "            torch.randn((2, num_pos_feats)),\n",
    "        )\n",
    "    \n",
    "    def _pe_encoding(self, coords: torch.Tensor) -> torch.Tensor:\n",
    "        \"\"\"Positionally encode points that are normalized to [0,1].\"\"\"\n",
    "        # assuming coords are in [0, 1]^2 square and have d_1 x ... x d_n x 2 shape\n",
    "        coords = 2 * coords - 1\n",
    "        coords = coords @ self.positional_encoding_gaussian_matrix\n",
    "        coords = 2 * np.pi * coords\n",
    "        # outputs d_1 x ... x d_n x C shape\n",
    "        return torch.cat([torch.sin(coords), torch.cos(coords)], dim=-1)\n",
    "    \n",
    "    def forward(self, coords_input):\n",
    "        \"\"\"\n",
    "        Arguments:\n",
    "        points: batch points predictions in formart [B, W, H]\n",
    "        \"\"\"\n",
    "        coords = coords_input.clone()\n",
    "        coords[:, 0] = coords[:, 0] / self.image_size\n",
    "        coords[:, 1] = coords[:, 1] / self.image_size\n",
    "        t = self._pe_encoding(coords.to(torch.float))  # B x N\n",
    "        return t\n",
    "\n",
    "tokenizer = TokenEncoder()\n",
    "tokenizer(torch.Tensor([[0, 0], [1,2], [0,0]]))\n"
   ]
  },
  {
   "cell_type": "code",
   "execution_count": 12,
   "metadata": {},
   "outputs": [],
   "source": [
    "import matplotlib.pyplot as plt\n",
    "%matplotlib inline"
   ]
  },
  {
   "cell_type": "code",
   "execution_count": 4,
   "metadata": {},
   "outputs": [],
   "source": [
    "class Net(nn.Module):\n",
    "    def __init__(self, hidden_d:int = 16, n_heads:int = 2, n_blocks:int = 2, out_d:int = 2, image_size:int = 28) -> None:\n",
    "        super().__init__()\n",
    "        self.max = 30\n",
    "\n",
    "        self.enconder = ViT()\n",
    "        self.token_enconder = TokenEncoder()\n",
    "        self.image_size = image_size\n",
    "\n",
    "        # Attention blocks\n",
    "        self.blocks = nn.ModuleList(\n",
    "            [MyViTBlock(hidden_d, n_heads) for _ in range(n_blocks)])\n",
    "        \n",
    "        self.pred = nn.Sequential(\n",
    "            nn.Linear(hidden_d, out_d),\n",
    "            nn.Sigmoid()\n",
    "        )\n",
    "\n",
    "        self.flag = nn.Sequential(\n",
    "            nn.Linear(hidden_d, 1),\n",
    "            nn.Sigmoid()\n",
    "        )\n",
    "    \n",
    "    def forward(self, image, input_token):\n",
    "        tokens = self.enconder(image)\n",
    "        # token = self.token_enconder(input_token)\n",
    "        \n",
    "        i = 0\n",
    "        stop = 0\n",
    "        points = []\n",
    "        while(i < self.max):\n",
    "            token = self.token_enconder(input_token)\n",
    "            tokens = torch.cat([token.unsqueeze(1), tokens.unsqueeze(1)], dim=1)\n",
    "\n",
    "            for block in self.blocks:\n",
    "                tokens = block(tokens)\n",
    "            \n",
    "            tokens = tokens[:, 1]\n",
    "            input_token = self.pred(tokens)\n",
    "            # stop = self.flag(tokens) > 0.5\n",
    "            points.append(input_token.unsqueeze(1) * self.image_size)\n",
    "            i += 1\n",
    "        return torch.cat(points, dim=1)\n",
    "\n",
    "\n",
    "# x = torch.randn(2, 1, 28, 28).to(\"cuda\")\n",
    "# z = torch.randn(2, 2).to(\"cuda\")\n",
    "# model = Net().to(\"cuda\")\n",
    "# model(x, z)"
   ]
  },
  {
   "cell_type": "code",
   "execution_count": 13,
   "metadata": {},
   "outputs": [
    {
     "name": "stdout",
     "output_type": "stream",
     "text": [
      "Using device:  cuda (Quadro M5000)\n",
      "torch.Size([128, 1, 28, 28]) torch.Size([128])\n"
     ]
    },
    {
     "name": "stderr",
     "output_type": "stream",
     "text": [
      "Training:  20%|██        | 1/5 [01:01<04:04, 61.03s/it]"
     ]
    },
    {
     "name": "stdout",
     "output_type": "stream",
     "text": [
      "Epoch 1/5 loss: 0.00\n"
     ]
    },
    {
     "name": "stderr",
     "output_type": "stream",
     "text": [
      "Training:  40%|████      | 2/5 [01:14<01:39, 33.09s/it]"
     ]
    },
    {
     "name": "stdout",
     "output_type": "stream",
     "text": [
      "Epoch 2/5 loss: 0.00\n"
     ]
    },
    {
     "name": "stderr",
     "output_type": "stream",
     "text": [
      "Training:  60%|██████    | 3/5 [01:27<00:47, 23.93s/it]"
     ]
    },
    {
     "name": "stdout",
     "output_type": "stream",
     "text": [
      "Epoch 3/5 loss: 0.00\n"
     ]
    },
    {
     "name": "stderr",
     "output_type": "stream",
     "text": [
      "Training:  80%|████████  | 4/5 [01:45<00:21, 21.71s/it]"
     ]
    },
    {
     "name": "stdout",
     "output_type": "stream",
     "text": [
      "Epoch 4/5 loss: 0.00\n"
     ]
    },
    {
     "name": "stderr",
     "output_type": "stream",
     "text": [
      "Training: 100%|██████████| 5/5 [02:01<00:00, 24.24s/it]"
     ]
    },
    {
     "name": "stdout",
     "output_type": "stream",
     "text": [
      "Epoch 5/5 loss: 0.00\n"
     ]
    },
    {
     "name": "stderr",
     "output_type": "stream",
     "text": [
      "\n"
     ]
    }
   ],
   "source": [
    "if __name__ == \"__main__\":\n",
    "    # Loading data\n",
    "    transform = ToTensor()\n",
    "\n",
    "    train_set = MNIST(root='./datasets', train=True,\n",
    "                      download=True, transform=transform)\n",
    "    test_set = MNIST(root='./datasets', train=False,\n",
    "                     download=False, transform=transform)\n",
    "\n",
    "    train_loader = DataLoader(train_set, shuffle=True, batch_size=128)\n",
    "    test_loader = DataLoader(test_set, shuffle=False, batch_size=128)\n",
    "\n",
    "    # Defining model and training options\n",
    "    device = torch.device(\"cuda\" if torch.cuda.is_available() else \"cpu\")\n",
    "    device_name = torch.cuda.get_device_name(device) if torch.cuda.is_available() else \"cpu\"\n",
    "    print(\"Using device: \", device, f\"({device_name})\")\n",
    "\n",
    "    model = Net().to(device)\n",
    "    N_EPOCHS = 5\n",
    "    LR = 0.005\n",
    "\n",
    "    batch_images, batch_labels = next(iter(train_loader))\n",
    "    print(batch_images.shape, batch_labels.shape)\n",
    "\n",
    "    # Training loop\n",
    "    optimizer = Adam(model.parameters(), lr=LR)\n",
    "    criterion = CrossEntropyLoss()\n",
    "    for epoch in trange(N_EPOCHS, desc=\"Training\"):\n",
    "        train_loss = 0.0\n",
    "    \n",
    "        for batch in tqdm(train_loader, desc=f\"Epoch {epoch + 1} in training\", leave=False):\n",
    "            x, _ = batch\n",
    "\n",
    "            inputs = torch.zeros(128, 2)\n",
    "            preds = model(x.to(device), inputs.to(device))\n",
    "\n",
    "            anns = []\n",
    "            for i in range(len(x)):\n",
    "                img = x[i].numpy()[0] * 255\n",
    "                img = img.astype(np.uint8)\n",
    "\n",
    "                cnt, _ = cv2.findContours(img, cv2.RETR_EXTERNAL, cv2.CHAIN_APPROX_NONE)\n",
    "                cnt = max(cnt, key=cv2.contourArea)\n",
    "                poly = cv2.approxPolyDP(cnt, 0.0054 * cv2.arcLength(cnt, True), True)\n",
    "                anns.append(torch.tensor(poly.reshape(1, -1, 2)))\n",
    "            \n",
    "            loss = 0.0\n",
    "            for i in range(128):\n",
    "                pred = preds[i]\n",
    "                ann = anns[i][0]\n",
    "\n",
    "                if len(pred) > len(ann):\n",
    "                    offset = len(pred) - len(ann)\n",
    "                    zeros = torch.zeros(offset, 2)\n",
    "                    ann = torch.cat([ann, zeros]).to(device)\n",
    "                else:\n",
    "                    pred = nn.functional.pad(input=pred, pad=(len(ann), 2), value=0)\n",
    "\n",
    "                loss += criterion(pred, ann)\n",
    "            \n",
    "            train_loss += loss.detach().cpu().item() / len(train_loader)\n",
    "\n",
    "            optimizer.zero_grad()\n",
    "            loss.backward()\n",
    "            optimizer.step()\n",
    "\n",
    "            print(f\"Epoch {epoch + 1}/{N_EPOCHS} loss: {train_loss:.2f}\")"
   ]
  },
  {
   "cell_type": "code",
   "execution_count": 54,
   "metadata": {},
   "outputs": [
    {
     "data": {
      "text/plain": [
       "<matplotlib.image.AxesImage at 0x7f5ecb8ae170>"
      ]
     },
     "execution_count": 54,
     "metadata": {},
     "output_type": "execute_result"
    },
    {
     "data": {
      "image/png": "[encoded data removed]",
      "text/plain": [
       "<Figure size 640x480 with 1 Axes>"
      ]
     },
     "metadata": {},
     "output_type": "display_data"
    }
   ],
   "source": [
    "img = batch_images[0].numpy()[0] * 255\n",
    "img = img.astype(np.uint8)\n",
    "plt.imshow(img, cmap='gray')"
   ]
  },
  {
   "cell_type": "code",
   "execution_count": 72,
   "metadata": {},
   "outputs": [
    {
     "name": "stderr",
     "output_type": "stream",
     "text": [
      "Clipping input data to the valid range for imshow with RGB data ([0..1] for floats or [0..255] for integers).\n"
     ]
    },
    {
     "name": "stdout",
     "output_type": "stream",
     "text": [
      "[[13  5]]\n",
      "[13  5]\n"
     ]
    },
    {
     "data": {
      "text/plain": [
       "<matplotlib.image.AxesImage at 0x7f5ecb2f4550>"
      ]
     },
     "execution_count": 72,
     "metadata": {},
     "output_type": "execute_result"
    },
    {
     "data": {
      "image/png": "[encoded data removed]",
      "text/plain": [
       "<Figure size 640x480 with 1 Axes>"
      ]
     },
     "metadata": {},
     "output_type": "display_data"
    }
   ],
   "source": [
    "cnt, _ = cv2.findContours(img, cv2.RETR_EXTERNAL, cv2.CHAIN_APPROX_NONE)\n",
    "cnt = max(cnt, key=cv2.contourArea)\n",
    "\n",
    "poly = cv2.approxPolyDP(cnt, 0.00054 * cv2.arcLength(cnt, True), True)\n",
    "\n",
    "print(poly[0])\n",
    "\n",
    "print(poly.reshape(-1, 2)[0])\n",
    "\n",
    "out = np.zeros((28,28, 3))\n",
    "out[:,:, 1] = np.copy(img)\n",
    "# out = np.copy(img)\n",
    "# cv2.drawContours(out, poly, -1, 255, 3)\n",
    "cv2.polylines(out, [poly], True, 255)\n",
    "\n",
    "plt.imshow(out)"
   ]
  }
 ],
 "metadata": {
  "kernelspec": {
   "display_name": ".venv",
   "language": "python",
   "name": "python3"
  },
  "language_info": {
   "codemirror_mode": {
    "name": "ipython",
    "version": 3
   },
   "file_extension": ".py",
   "mimetype": "text/x-python",
   "name": "python",
   "nbconvert_exporter": "python",
   "pygments_lexer": "ipython3",
   "version": "3.10.12"
  }
 },
 "nbformat": 4,
 "nbformat_minor": 2
}
